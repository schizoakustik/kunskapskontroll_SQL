{
 "cells": [
  {
   "cell_type": "code",
   "execution_count": 1,
   "metadata": {},
   "outputs": [],
   "source": [
    "import pandas as pd\n",
    "import geopandas as gpd\n",
    "import numpy as np\n",
    "import matplotlib.pyplot as plt\n",
    "import seaborn as sns; sns.set(context='paper', palette='muted', font='serif', font_scale=1.2);\n",
    "from shapely import wkt\n",
    "import pyodbc\n",
    "from sqlalchemy.engine import create_engine, URL\n",
    "from sqlalchemy import inspect\n",
    "from scipy.stats import norm, sem, ttest_ind\n",
    "import plotly.express as px\n",
    "import pingouin as pg\n",
    "Z = norm()\n",
    "plot = False"
   ]
  },
  {
   "cell_type": "markdown",
   "metadata": {},
   "source": [
    "### Set up database connection"
   ]
  },
  {
   "cell_type": "code",
   "execution_count": 2,
   "metadata": {},
   "outputs": [],
   "source": [
    "SERVER = 'localhost'\n",
    "DATABASE = 'AdventureWorks2022'\n",
    "\n",
    "connection_string = f'DRIVER={{ODBC Driver 18 for SQL Server}};SERVER={SERVER};DATABASE={DATABASE};Trusted_Connection=yes;Encrypt=no'\n",
    "connection_url = URL.create('mssql+pyodbc', query={'odbc_connect': connection_string})\n",
    "engine = create_engine(connection_url)"
   ]
  },
  {
   "cell_type": "markdown",
   "metadata": {},
   "source": [
    "## Human resources\n"
   ]
  },
  {
   "cell_type": "markdown",
   "metadata": {},
   "source": [
    "### Data över anställda"
   ]
  },
  {
   "cell_type": "code",
   "execution_count": 3,
   "metadata": {},
   "outputs": [],
   "source": [
    "# Number of employees by dept.\n",
    "\n",
    "emp_dept_sql = \"\"\" \n",
    "SELECT Department\n",
    "    -- ,Gender\n",
    "    ,COUNT(Department) EmpCount\n",
    "FROM HumanResources.Employee A\n",
    "INNER JOIN HumanResources.vEmployeeDepartment B\n",
    "    ON A.BusinessEntityID = B.BusinessEntityID\n",
    "GROUP BY Department\n",
    "ORDER BY EmpCount DESC \"\"\"\n",
    "\n",
    "emp_dept_df = pd.read_sql(emp_dept_sql, engine)"
   ]
  },
  {
   "cell_type": "code",
   "execution_count": 4,
   "metadata": {},
   "outputs": [],
   "source": [
    "# Plot employees per dept.\n",
    "if plot:\n",
    "    fg = sns.catplot(data=emp_dept_df, y='Department', x='EmpCount', kind='bar', height=6, aspect=1.5)\n",
    "    fg.set(title='Antal anställda per avdelning', xlabel='Antal anställda', ylabel='Avdelning')"
   ]
  },
  {
   "cell_type": "code",
   "execution_count": 5,
   "metadata": {},
   "outputs": [],
   "source": [
    "# Employee gender statistics\n",
    "emp_gender_sql = \"\"\" \n",
    "SELECT Gender,\n",
    "    COUNT(Gender) GenderCount\n",
    "FROM HumanResources.Employee\n",
    "GROUP BY Gender\n",
    "\"\"\"\n",
    "\n",
    "emp_gender_df = pd.read_sql(emp_gender_sql, engine)\n",
    "if plot:\n",
    "    fg = sns.catplot(data=emp_gender_df, kind='bar', x='Gender', y='GenderCount', hue='Gender')\n",
    "    fg.set(title='Könsfördelning, anställda', xlabel='Kön', ylabel='Antal anställda')"
   ]
  },
  {
   "cell_type": "code",
   "execution_count": 6,
   "metadata": {},
   "outputs": [],
   "source": [
    "# Query for individual rates with highest rate for each employee.\n",
    "\n",
    "invidvidual_rates_sql = \"\"\" \n",
    "SELECT DISTINCT A.BusinessEntityID\n",
    "    ,Gender\n",
    "    ,MAX(Rate)\n",
    "    OVER (  PARTITION BY A.BusinessEntityID\n",
    "            ORDER BY Rate DESC) Rate\n",
    "    ,Department\n",
    "FROM HumanResources.Employee A\n",
    "INNER JOIN HumanResources.EmployeePayHistory B\n",
    "    ON A.BusinessEntityID = B.BusinessEntityID\n",
    "INNER JOIN HumanResources.vEmployeeDepartment C\n",
    "    ON A.BusinessEntityID = C.BusinessEntityID\n",
    "\"\"\"\n",
    "invidvidual_rates_df = pd.read_sql(invidvidual_rates_sql, engine)"
   ]
  },
  {
   "cell_type": "code",
   "execution_count": 7,
   "metadata": {},
   "outputs": [
    {
     "data": {
      "text/html": [
       "<div>\n",
       "<style scoped>\n",
       "    .dataframe tbody tr th:only-of-type {\n",
       "        vertical-align: middle;\n",
       "    }\n",
       "\n",
       "    .dataframe tbody tr th {\n",
       "        vertical-align: top;\n",
       "    }\n",
       "\n",
       "    .dataframe thead th {\n",
       "        text-align: right;\n",
       "    }\n",
       "</style>\n",
       "<table border=\"1\" class=\"dataframe\">\n",
       "  <thead>\n",
       "    <tr style=\"text-align: right;\">\n",
       "      <th></th>\n",
       "      <th>T</th>\n",
       "      <th>dof</th>\n",
       "      <th>alternative</th>\n",
       "      <th>p-val</th>\n",
       "      <th>CI95%</th>\n",
       "      <th>cohen-d</th>\n",
       "      <th>BF10</th>\n",
       "      <th>power</th>\n",
       "    </tr>\n",
       "  </thead>\n",
       "  <tbody>\n",
       "    <tr>\n",
       "      <th>T-test</th>\n",
       "      <td>0.951177</td>\n",
       "      <td>165.679067</td>\n",
       "      <td>two-sided</td>\n",
       "      <td>0.3429</td>\n",
       "      <td>[-1.58, 4.51]</td>\n",
       "      <td>0.119171</td>\n",
       "      <td>0.217</td>\n",
       "      <td>0.150597</td>\n",
       "    </tr>\n",
       "  </tbody>\n",
       "</table>\n",
       "</div>"
      ],
      "text/plain": [
       "               T         dof alternative   p-val          CI95%   cohen-d  \\\n",
       "T-test  0.951177  165.679067   two-sided  0.3429  [-1.58, 4.51]  0.119171   \n",
       "\n",
       "         BF10     power  \n",
       "T-test  0.217  0.150597  "
      ]
     },
     "execution_count": 7,
     "metadata": {},
     "output_type": "execute_result"
    }
   ],
   "source": [
    "# Is the pay gap between genders statistically significant?\n",
    "\n",
    "f_invidvidual_rates_df = invidvidual_rates_df.query('Gender == \"F\"')\n",
    "m_invidvidual_rates_df = invidvidual_rates_df.query('Gender == \"M\"')\n",
    "\n",
    "# Perform a t-test\n",
    "pg.ttest(f_invidvidual_rates_df.Rate, m_invidvidual_rates_df.Rate)"
   ]
  },
  {
   "cell_type": "code",
   "execution_count": 8,
   "metadata": {},
   "outputs": [],
   "source": [
    "# Plot mean rate by gender\n",
    "if plot: \n",
    "    fg = sns.catplot(data=invidvidual_rates_df, x='Gender', y='Rate', hue='Gender', kind='bar', order=['F', 'M'])\n",
    "    fg.set(title='Medellön efter kön', xlabel='Kön', ylabel='Timlön');"
   ]
  },
  {
   "cell_type": "markdown",
   "metadata": {},
   "source": [
    "### Sjuktimmar"
   ]
  },
  {
   "cell_type": "code",
   "execution_count": 12,
   "metadata": {},
   "outputs": [],
   "source": [
    "# Sjuktimmar per avdelning\n",
    "sickleave_sql = \"\"\" \n",
    "SELECT B.Department\n",
    "    ,A.BusinessEntityID\n",
    "    ,A.SickLeaveHours\n",
    "FROM HumanResources.Employee A\n",
    "INNER JOIN HumanResources.vEmployeeDepartment B\n",
    "    ON A.BusinessEntityID = B.BusinessEntityID\n",
    "ORDER BY SickLeaveHours\n",
    " \"\"\"\n",
    "\n",
    "sickleave_df = pd.read_sql(sickleave_sql, engine)"
   ]
  },
  {
   "cell_type": "code",
   "execution_count": 13,
   "metadata": {},
   "outputs": [],
   "source": [
    "# Plot sick leave hours per dept.\n",
    "if plot:\n",
    "    fg = sns.catplot(data=sickleave_df, y='Department', x='SickLeaveHours', hue='Department', kind='box', height=6, aspect=2.5)\n",
    "    fg.set(title='Tillgängliga sjuktimmar per avdelning', xlabel='Tillgängliga sjuktimmar', ylabel='Avdelning')"
   ]
  },
  {
   "cell_type": "code",
   "execution_count": 14,
   "metadata": {},
   "outputs": [],
   "source": [
    "# How long have the employees been working at AdventureWorks?\n",
    "\n",
    "months_worked_sql = \"\"\" \n",
    "WITH MonthsWorked_CTE AS\n",
    "(\n",
    "SELECT DATEDIFF(MONTH, HireDate, '2014-06-30') MonthsWorked\n",
    "    ,B.Department\n",
    "FROM HumanResources.Employee A\n",
    "INNER JOIN HumanResources.vEmployeeDepartment B\n",
    "    ON A.BusinessEntityID = B.BusinessEntityID\n",
    ")\n",
    "SELECT *\n",
    "    ,AVG(MonthsWorked) OVER (PARTITION BY Department) AvgDeptEmpTime\n",
    "FROM MonthsWorked_CTE\n",
    "ORDER BY AvgDeptEmpTime DESC \"\"\"\n",
    "\n",
    "months_worked_df = pd.read_sql(months_worked_sql, engine)"
   ]
  },
  {
   "cell_type": "code",
   "execution_count": 15,
   "metadata": {},
   "outputs": [],
   "source": [
    "# Plot employment times\n",
    "if plot:\n",
    "    fg = sns.catplot(data=months_worked_df.sort_values('AvgDeptEmpTime'), y='Department', x='MonthsWorked', hue='Department', kind='box', aspect=3)\n",
    "    fg.set(title='Tid som anställd per avdelning', xlabel='Tid som anställd (månader)', ylabel='Avdelning')"
   ]
  },
  {
   "cell_type": "code",
   "execution_count": 18,
   "metadata": {},
   "outputs": [],
   "source": [
    "# Pay rate by dept. and gender\n",
    "\n",
    "employee_payrate_sql = \"\"\" \n",
    "SELECT DISTINCT A.BusinessEntityID\n",
    "    ,A.Gender\n",
    "    ,A.JobTitle\n",
    "    ,C.Department\n",
    "    ,MAX(D.Rate)\n",
    "        OVER(   PARTITION BY   A.BusinessEntityID\n",
    "                ORDER BY       D.Rate DESC\n",
    "            ) EmployeeRate\n",
    "    ,AVG(D.Rate)\n",
    "        OVER (PARTITION BY C.Department) DeptAvgRate\n",
    "FROM HumanResources.Employee A\n",
    "INNER JOIN HumanResources.vEmployeeDepartment C\n",
    "    ON A.BusinessEntityID = C.BusinessEntityID\n",
    "INNER JOIN HumanResources.EmployeePayHistory D\n",
    "    ON A.BusinessEntityID = D.BusinessEntityID\n",
    "-- WHERE Department NOT LIKE 'Executive'\n",
    "-- WHERE OrganizationLevel > 1\n",
    "GROUP BY A.BusinessEntityID, Department, Rate, Gender, A.JobTitle\n",
    "\"\"\""
   ]
  },
  {
   "cell_type": "code",
   "execution_count": 19,
   "metadata": {},
   "outputs": [],
   "source": [
    "employee_payrate_df = pd.read_sql(employee_payrate_sql, engine)"
   ]
  },
  {
   "cell_type": "code",
   "execution_count": 20,
   "metadata": {},
   "outputs": [],
   "source": [
    "# Plot mean rate per dept.\n",
    "if plot:\n",
    "    fg = sns.catplot(data=employee_payrate_df.sort_values('DeptAvgRate', ascending=False), y='Department', x='EmployeeRate', hue='Gender', kind='bar', height=8, aspect=1.618)\n",
    "\n",
    "    fg.set(title='Medellön, avdelning och kön', xlabel='Timlön (dollar)', ylabel='Avdelning')"
   ]
  },
  {
   "cell_type": "code",
   "execution_count": 21,
   "metadata": {},
   "outputs": [],
   "source": [
    "# Plot gender proportions per dept.\n",
    "if plot:\n",
    "    fig, ax = plt.subplots(figsize=(12, 6)) \n",
    "\n",
    "    sns.histplot(data=employee_payrate_df, stat='proportion', element='bars', hue='Gender', y='Department', multiple='fill', ax=ax)\n",
    "\n",
    "    ax.set(title='Könsfördelning per avdelning', xlabel='Andel anställda', ylabel='Avdelning');"
   ]
  },
  {
   "cell_type": "code",
   "execution_count": 22,
   "metadata": {},
   "outputs": [],
   "source": [
    "# Plot a swarm plot over engineering dept. rates\n",
    "if plot:\n",
    "    fg = sns.catplot(employee_payrate_df.query('Department == \"Engineering\"'), x='Gender', y='EmployeeRate', hue='JobTitle', kind='swarm', palette='muted', size=10)\n",
    "    fg.set(title='Lönefördelning, Engineering department', xlabel='Kön', ylabel='Timlön')\n",
    "    fg.refline(y=employee_payrate_df.query('Department == \"Engineering\"').DeptAvgRate.mean())\n",
    "    plt.annotate('Avdelningens medellön', xy=(.5, 39), fontsize=8, ha='center')"
   ]
  },
  {
   "cell_type": "code",
   "execution_count": 23,
   "metadata": {},
   "outputs": [],
   "source": [
    "# Plot mean rates per gender for engineering dept.\n",
    "if plot:\n",
    "    fg = sns.catplot(employee_payrate_df.query('Department == \"Engineering\"'), x='Gender', y='EmployeeRate', hue='Gender', kind='bar', palette='muted', order=['F', 'M'], hue_order=['F', 'M'])\n",
    "    fg.set(title='Lönefördelning, Engineering department', xlabel='Kön', ylabel='Timlön', ylim=[0, 70])"
   ]
  },
  {
   "cell_type": "code",
   "execution_count": 24,
   "metadata": {},
   "outputs": [],
   "source": [
    "# Plot mean rates per gender for engineering dept. excluding VP\n",
    "if plot:\n",
    "    fg = sns.catplot(employee_payrate_df.query('Department == \"Engineering\" and EmployeeRate < 50'), x='Gender', y='EmployeeRate', hue='Gender', kind='bar', palette='muted', order=['F', 'M'], hue_order=['F', 'M'])\n",
    "    fg.set(title='Lönefördelning, Engineering department, utan vice president', xlabel='Kön', ylabel='Timlön', ylim=[0, 70])"
   ]
  },
  {
   "cell_type": "markdown",
   "metadata": {},
   "source": [
    "## Ekonomi"
   ]
  },
  {
   "cell_type": "markdown",
   "metadata": {},
   "source": [
    "### Försäljning och inköp"
   ]
  },
  {
   "cell_type": "code",
   "execution_count": 78,
   "metadata": {},
   "outputs": [],
   "source": [
    "# Sales by half years\n",
    "sales_by_half_year_sql = \"\"\" \n",
    "SELECT SUM(SubTotal) Total\n",
    "    ,Year(OrderDate) Year\n",
    "    ,'Q1-Q2' Period\n",
    "FROM Sales.SalesOrderHeader\n",
    "WHERE MONTH(OrderDate) <= 6 AND YEAR(OrderDate) < 2014\n",
    "GROUP BY YEAR(OrderDate)\n",
    "UNION\n",
    "SELECT SUM(SubTotal) Total\n",
    "    ,Year(OrderDate) Year\n",
    "    ,'Q3-Q4' Period\n",
    "FROM Sales.SalesOrderHeader\n",
    "WHERE MONTH(OrderDate) > 6 AND YEAR(OrderDate) < 2014\n",
    "GROUP BY YEAR(OrderDate) \"\"\"\n",
    "\n",
    "sales_by_half_year_df = pd.read_sql(sales_by_half_year_sql, engine)\n",
    "sales_by_half_year_df.set_index('Period', inplace=True)"
   ]
  },
  {
   "cell_type": "code",
   "execution_count": 80,
   "metadata": {},
   "outputs": [
    {
     "data": {
      "text/plain": [
       "<Axes: title={'center': 'Andel av försäljning per halvår, 2011-2013'}, ylabel='Total försäljning'>"
      ]
     },
     "execution_count": 80,
     "metadata": {},
     "output_type": "execute_result"
    },
    {
     "data": {
      "image/png": "[encoded data removed]",
      "text/plain": [
       "<Figure size 640x480 with 1 Axes>"
      ]
     },
     "metadata": {},
     "output_type": "display_data"
    }
   ],
   "source": [
    "sales_by_half_year_df.groupby('Period').Total.mean().plot(kind='pie', title='Andel av försäljning per halvår, 2011-2013', ylabel='Total försäljning')"
   ]
  },
  {
   "cell_type": "code",
   "execution_count": 27,
   "metadata": {},
   "outputs": [],
   "source": [
    "# Sales and purchases per year and month\n",
    "sales_and_purchases_sql = \"\"\" \n",
    "SELECT YEAR(OrderDate) [Year]\n",
    "    ,MONTH(OrderDate) [Month]\n",
    "    ,'Försäljning' TransactionType\n",
    "    ,SUM(SubTotal) SubTotalSum\n",
    "FROM Sales.SalesOrderHeader\n",
    "GROUP BY YEAR(OrderDate), Month(OrderDate)\n",
    "UNION\n",
    "\n",
    "SELECT YEAR(OrderDate) [Year]\n",
    "    ,MONTH(OrderDate) [Month]\n",
    "    ,'Inköp' TransactionType\n",
    "    ,SUM(SubTotal) SubTotalSum\n",
    "FROM Purchasing.PurchaseOrderHeader \n",
    "GROUP BY YEAR(OrderDate), Month(OrderDate)\n",
    "\"\"\"\n",
    "\n",
    "sales_and_purchases_df = pd.read_sql(sales_and_purchases_sql, engine)\n",
    "# Add Date column\n",
    "sales_and_purchases_df['Date'] = pd.to_datetime(sales_and_purchases_df[['Year', 'Month']].assign(DAY=28))"
   ]
  },
  {
   "cell_type": "code",
   "execution_count": 28,
   "metadata": {},
   "outputs": [],
   "source": [
    "# Plot sales and purchases per month\n",
    "if plot:\n",
    "    fg = sns.relplot(data=sales_and_purchases_df, x='Date', y='SubTotalSum', hue='TransactionType', kind='line', aspect=2.5, height=6)\n",
    "    fg.set(title='Försäljning och inköp per månad, 2011-2014', xlabel='Datum', ylabel='Totalt pris (miljoner dollar)')"
   ]
  },
  {
   "cell_type": "code",
   "execution_count": 29,
   "metadata": {},
   "outputs": [],
   "source": [
    "# Estimate sales for last half of 2014\n",
    "\n",
    "predicted_sales_2014_sql = \"\"\" \n",
    "DECLARE @Tvalue DECIMAL(5, 2);\n",
    "SET @Tvalue = 2.776;\n",
    "WITH SalesPerMonth_CTE AS (\n",
    "\n",
    "    SELECT MONTH(OrderDate) Month\n",
    "        -- ,COUNT(*) NumberOfSales\n",
    "        ,COUNT(*)/3 AvgNumberOfSales -- 2011-2013\n",
    "        -- ,CAST(SUM(SubTotal) AS DECIMAL(10, 2)) TotalSales\n",
    "        ,CAST(AVG(SubTotal) AS DECIMAL(10,2)) AvgSalesAmount\n",
    "        -- ,CAST(STDEV(SubTotal) AS DECIMAL(10, 2)) StdSales\n",
    "        ,CAST(STDEV(SubTotal)/SQRT(COUNT(*)/3) AS DECIMAL(10, 2)) StdErrSalesAmount\n",
    "    FROM sales.SalesOrderHeader A\n",
    "    WHERE MONTH(OrderDate) >= 7\n",
    "    GROUP BY MONTH(OrderDate)\n",
    "    -- ORDER BY [Month]\n",
    ")\n",
    "SELECT Month\n",
    "    ,AvgNumberOfSales * (AvgSalesAmount-@Tvalue*StdErrSalesAmount) IntervalLow\n",
    "    ,AvgNumberOfSales * (AvgSalesAmount+@Tvalue*StdErrSalesAmount) IntervalHigh\n",
    "FROM SalesPerMonth_CTE\n",
    "ORDER BY [Month] \"\"\"\n",
    "\n",
    "predicted_sales_2014_df = pd.read_sql(predicted_sales_2014_sql, engine)\n",
    "# Add Date column\n",
    "predicted_sales_2014_df['Date'] = pd.to_datetime(predicted_sales_2014_df[['Month']].assign(YEAR=2014, DAY=28))"
   ]
  },
  {
   "cell_type": "code",
   "execution_count": 30,
   "metadata": {},
   "outputs": [],
   "source": [
    "# Plot sales and add estimated sales\n",
    "if plot:\n",
    "    sns.set_context('paper')\n",
    "    fg = sns.relplot(data=sales_and_purchases_df.query('TransactionType == \"Försäljning\"'), x='Date', y='SubTotalSum', kind='line', height=6, aspect=2.5)\n",
    "    plt.fill_between(predicted_sales_2014_df.Date, predicted_sales_2014_df.IntervalLow, predicted_sales_2014_df.IntervalHigh, alpha=.5, facecolor='gray', edgecolor='tab:blue', linestyle='dashed')\n",
    "    fg.set(title='Försäljning per månad, 2011-2014', xlabel='Datum', ylabel='Total försäljning (miljoner dollar)')\n",
    "    plt.annotate('Skattad försäljning, juli till december 2014', (pd.to_datetime('20140903', format='%Y%m%d'), 3e6), xytext=(-75, 150), textcoords='offset points', arrowprops={'arrowstyle': '->', 'color': 'k'});"
   ]
  },
  {
   "cell_type": "code",
   "execution_count": 31,
   "metadata": {},
   "outputs": [],
   "source": [
    "# Transactions monthly\n",
    "transaction_history_sql = \"\"\" \n",
    "SELECT A.ProductID\n",
    "    ,A.TransactionDate\n",
    "    ,A.TransactionType\n",
    "    ,A.Quantity\n",
    "    ,A.ActualCost\n",
    "    -- ,A.Quantity*A.ActualCost TotalCost\n",
    "    ,(CASE   WHEN A.TransactionType = 'S' \n",
    "                THEN\n",
    "                    A.Quantity * B.ListPrice\n",
    "            ELSE \n",
    "                    A.Quantity * B.StandardCost\n",
    "    END) TotalCost\n",
    "FROM Production.TransactionHistory A\n",
    "INNER JOIN Production.Product B\n",
    "    ON A.ProductID = B.ProductID\n",
    "WHERE A.TransactionType = 'S' OR A.TransactionType = 'P'\n",
    "-- GROUP BY A.ProductID, Name, TransactionDate, TransactionType, Quantity, ActualCost\n",
    "ORDER BY TotalCost DESC \"\"\"\n",
    "transaction_history_df = pd.read_sql(transaction_history_sql, engine)"
   ]
  },
  {
   "cell_type": "code",
   "execution_count": 32,
   "metadata": {},
   "outputs": [],
   "source": [
    "if plot:\n",
    "    sns.relplot(data=transaction_history_df, x='TransactionDate', y='TotalCost', hue='TransactionType', kind='line', aspect=3)"
   ]
  },
  {
   "cell_type": "markdown",
   "metadata": {},
   "source": [
    "Kanske imorgon att jag utgår från produkter och därifrån ser hur många som köpts in av dem för att få ett avslut på försäljning och inköps-delen."
   ]
  },
  {
   "cell_type": "code",
   "execution_count": 67,
   "metadata": {},
   "outputs": [],
   "source": [
    "products_sql = \"\"\" \n",
    "\n",
    "WITH TimesOrdered_CTE AS\n",
    "(\n",
    "SELECT\n",
    "    YEAR(DueDate) Year\n",
    "    ,MONTH(DueDate) Month\n",
    "    ,ProductID\n",
    "    ,COUNT(ProductID) TimesOrdered\n",
    "FROM Purchasing.PurchaseOrderDetail\n",
    "WHERE ProductID IN (319, 320, 321, 322, 507)\n",
    "GROUP BY YEAR(DueDate), MONTH(DueDate), ProductID\n",
    ")\n",
    "SELECT Year\n",
    "    ,Month\n",
    "    ,A.ProductID\n",
    "    ,B.Name\n",
    "    ,SUM(TimesOrdered)\n",
    "        OVER (  PARTITION BY A.ProductID\n",
    "                ORDER BY Year, Month\n",
    "        ) TotalTimesOrdered\n",
    "FROM TimesOrdered_CTE A\n",
    "INNER JOIN Production.Product B\n",
    "    ON A.ProductID = B.ProductID\n",
    "GROUP BY Year, [Month], A.ProductID, TimesOrdered, Name\n",
    "ORDER BY TotalTimesOrdered DESC\n",
    " \"\"\"\n",
    "\n",
    "products_df = pd.read_sql(products_sql, engine)\n",
    "products_df['Date'] = pd.to_datetime(products_df[['Year', 'Month']].assign(DAY=1))"
   ]
  },
  {
   "cell_type": "code",
   "execution_count": 73,
   "metadata": {},
   "outputs": [
    {
     "data": {
      "text/plain": [
       "<seaborn.axisgrid.FacetGrid at 0x227141b7010>"
      ]
     },
     "execution_count": 73,
     "metadata": {},
     "output_type": "execute_result"
    },
    {
     "data": {
      "image/png": "[encoded data removed]",
      "text/plain": [
       "<Figure size 1182.92x500 with 1 Axes>"
      ]
     },
     "metadata": {},
     "output_type": "display_data"
    }
   ],
   "source": [
    "fg = sns.relplot(data=products_df, x='Date', y='TotalTimesOrdered', hue='Name', kind='line', aspect=2, palette='muted')\n",
    "fg.set(title='Totalt antal beställningar, topp fem produkter', xlabel='Datum', ylabel='Totalt antal gjorda beställningar')"
   ]
  },
  {
   "cell_type": "code",
   "execution_count": 51,
   "metadata": {},
   "outputs": [],
   "source": [
    "# Query for HL Crankarm (ProductID 319) order quantity and total cost\n",
    "crankarm_sql = \"\"\" \n",
    "SELECT YEAR(OrderDate) Year\n",
    "    ,MONTH(OrderDate) Month\n",
    "    ,SUM(B.SubTotal) TotalSubTotal\n",
    "    ,SUM(A.OrderQty) TotalOrderQty\n",
    "FROM Purchasing.PurchaseOrderDetail A\n",
    "INNER JOIN Purchasing.PurchaseOrderHeader B\n",
    "    ON A.PurchaseOrderID = b.PurchaseOrderID\n",
    "WHERE A.ProductID = 319\n",
    "GROUP BY YEAR(OrderDate), MONTH(OrderDate)\n",
    "ORDER BY YEAR(OrderDate), MONTH(OrderDate) \"\"\"\n",
    "\n",
    "crankarm_df = pd.read_sql(crankarm_sql, engine)\n",
    "crankarm_df['Date'] = pd.to_datetime(crankarm_df[['Year', 'Month']].assign(DAY=1))"
   ]
  },
  {
   "cell_type": "markdown",
   "metadata": {},
   "source": [
    "## GIS"
   ]
  },
  {
   "cell_type": "code",
   "execution_count": 33,
   "metadata": {},
   "outputs": [],
   "source": [
    "# Query for locations of store contacts and invidvidual customers\n",
    "sql = '''\n",
    "SELECT \n",
    "    A.FirstName\n",
    "    ,A.LastName\n",
    "    ,CASE WHEN A.PersonType = 'SC' THEN 'Store contact'\n",
    "        ELSE 'Individual customer'\n",
    "    END Type\n",
    "    ,B.City\n",
    "    ,B.SpatialLocation.STAsText() Location\n",
    "FROM Person.Person A\n",
    "INNER JOIN Person.Address B\n",
    "    ON A.BusinessEntityID = B.AddressID\n",
    "WHERE SpatialLocation.STAsText() NOT LIKE '%(0 0)%'\n",
    "    AND (A.PersonType = 'IN' OR A.PersonType = 'SC')\n",
    "'''\n",
    "\n",
    "location_df = pd.read_sql(sql, engine)\n",
    "location_df['Location'] = location_df.Location.apply(wkt.loads)\n",
    "gdf = gpd.GeoDataFrame(location_df)\n",
    "gdf = gdf.set_geometry('Location')\n",
    "\n",
    "gdf = gdf.set_crs(epsg=3857)"
   ]
  },
  {
   "cell_type": "code",
   "execution_count": 34,
   "metadata": {},
   "outputs": [],
   "source": [
    "if plot:\n",
    "    fig = px.scatter_mapbox(gdf, lat=gdf.geometry.y, lon=gdf.geometry.x, zoom=2, opacity=.75, color='Type', title='Store contact and individual customer locations')\n",
    "    fig.update_layout(mapbox_style='carto-positron', height=750)\n",
    "    fig.show()"
   ]
  }
 ],
 "metadata": {
  "kernelspec": {
   "display_name": "base",
   "language": "python",
   "name": "python3"
  },
  "language_info": {
   "codemirror_mode": {
    "name": "ipython",
    "version": 3
   },
   "file_extension": ".py",
   "mimetype": "text/x-python",
   "name": "python",
   "nbconvert_exporter": "python",
   "pygments_lexer": "ipython3",
   "version": "3.11.3"
  }
 },
 "nbformat": 4,
 "nbformat_minor": 2
}
